{
 "cells": [
  {
   "cell_type": "markdown",
   "metadata": {},
   "source": [
    "# Prediction of Hospital Readmission with Machine Learning Models\n",
    "\n",
    "### Fumei Lin   12/8/2019"
   ]
  },
  {
   "cell_type": "markdown",
   "metadata": {},
   "source": [
    "## Introduction\n",
    "The objectives of this project is to use machine learning modeling to predict which patients are more likely to be readmitted to the hospital within 30 days of a discharge. If readmissions can be accurately predicted, health care providers will be able to attempt to change and improve on the process of care, to eventually reduce the readmission episodes. Therefore, this analysis has the potentials to improve the quality and reduce the total cost of patient care.\n",
    "\n",
    "Two different models, Logistic Regression and Random Forest Classifier, will be used and the results will be compared. The data used in this project is the MIMIC-III public data set. Some data processing is needed in order to prepare the original CSV data files ready for the modeling, which I will not describe in detail here. The outcome to be predicted is a dichotomy variable, of whether the patient was readmitted within 30 days of a discharge. The predictor features added to the model include demographic, diagnosis codes, procedures, and many other measurable features related to hospital encounters which I consider relevant."
   ]
  },
  {
   "cell_type": "code",
   "execution_count": 1,
   "metadata": {},
   "outputs": [
    {
     "name": "stderr",
     "output_type": "stream",
     "text": [
      "C:\\ProgramData\\Anaconda3\\lib\\site-packages\\pandas\\core\\reshape\\merge.py:522: UserWarning: merging between different levels can give an unintended result (1 levels on the left, 3 on the right)\n",
      "  warnings.warn(msg, UserWarning)\n"
     ]
    }
   ],
   "source": [
    "import pandas as pd\n",
    "import numpy as np\n",
    "import matplotlib.pyplot as plt\n",
    "from sklearn.ensemble import RandomForestClassifier\n",
    "\n",
    "# load data files \n",
    "df_demDx = pd.read_csv('SummaryWithDx.csv')\n",
    "df_pxc = pd.read_csv('Px3ICD9.csv')\n",
    "df_icu = pd.read_csv('ICUSTAYS.csv')\n",
    "\n",
    "# pivot the long records into wide format, bsically onehot encoding to turn categorical variables into dichotomy ones\n",
    "df_pxc[\"val\"] = 1\n",
    "px = pd.pivot_table(df_pxc, index=[\"HADM_ID\"],columns = [\"proc_code\"], \n",
    "                    values=[\"val\"], aggfunc=[np.sum], fill_value=0)\n",
    "\n",
    "icu = pd.pivot_table(df_icu, index=[\"HADM_ID\"],columns = [\"LAST_CAREUNIT\"], \n",
    "                    values=[\"LOS\"], aggfunc=[np.sum], fill_value=0)\n",
    "\n",
    "# join 3 data sets together\n",
    "df_1 = df_demDx.merge(px, left_on='HADM_ID', right_on='HADM_ID', how='inner')\n",
    "df_data = df_1.merge(icu, left_on='HADM_ID', right_on='HADM_ID', how='inner')"
   ]
  },
  {
   "cell_type": "markdown",
   "metadata": {},
   "source": [
    "As expected, age distrubution is schewed towards older patients. So instead of using the continuous age variable, a recoded ordinal ageGroup is used in the model.  "
   ]
  },
  {
   "cell_type": "code",
   "execution_count": 2,
   "metadata": {},
   "outputs": [
    {
     "data": {
      "image/png": "[encoded data removed]",
      "text/plain": [
       "<Figure size 432x288 with 1 Axes>"
      ]
     },
     "metadata": {
      "needs_background": "light"
     },
     "output_type": "display_data"
    },
    {
     "data": {
      "image/png": "[encoded data removed]",
      "text/plain": [
       "<Figure size 432x288 with 1 Axes>"
      ]
     },
     "metadata": {
      "needs_background": "light"
     },
     "output_type": "display_data"
    }
   ],
   "source": [
    "# data cleaning\n",
    "# include only if age >0 and < 120 , exclude about 2350 cases\n",
    "df_data = df_data[(df_data.age > 0) & (df_data.age < 120)]\n",
    "\n",
    "# age is schewed, not normal distribution\n",
    "df_data.hist(column='age', bins=150)\n",
    "\n",
    "# recode age as ordinal ageGroup\n",
    "df_data.loc[(df_data.age <25), 'ageGroup'] = 1\n",
    "df_data.loc[(df_data.age >=25) & (df_data.age <40), 'ageGroup'] = 2\n",
    "df_data.loc[(df_data.age >=40) & (df_data.age <50), 'ageGroup'] = 3\n",
    "df_data.loc[(df_data.age >=50) & (df_data.age <58), 'ageGroup'] = 4\n",
    "df_data.loc[(df_data.age >=58) & (df_data.age <65), 'ageGroup'] = 5\n",
    "df_data.loc[(df_data.age >=65) & (df_data.age <72), 'ageGroup'] = 6\n",
    "df_data.loc[(df_data.age >=72) & (df_data.age <78), 'ageGroup'] = 7\n",
    "df_data.loc[(df_data.age >=78) & (df_data.age <82), 'ageGroup'] = 8\n",
    "df_data.loc[(df_data.age >=82) & (df_data.age <86), 'ageGroup'] = 9\n",
    "df_data.loc[(df_data.age >=86), 'ageGroup'] = 10\n",
    "\n",
    "df_data.hist(column='ageGroup')\n",
    "\n",
    "# 1 = axis number, 0 for rows and 1 for columns\n",
    "df_data = df_data.drop('age', 1)"
   ]
  },
  {
   "cell_type": "markdown",
   "metadata": {},
   "source": [
    "Data transformation and cleaning are completed. Now the data is ready for the modeling. The data is split into 3 sets: 80% for the training set, 10% for the validation set, the other 10% will be used as the final test data set.  "
   ]
  },
  {
   "cell_type": "code",
   "execution_count": 3,
   "metadata": {},
   "outputs": [],
   "source": [
    "# set 20% of data for validation/test \n",
    "df_valid_test = df_data.sample(frac = 0.20,random_state = 42)\n",
    "df_test = df_valid_test.sample(frac = 0.5, random_state = 42)\n",
    "df_valid = df_valid_test.drop(df_test.index)\n",
    "\n",
    "# the other 80% as training data\n",
    "df_train_all = df_data.drop(df_valid_test.index)"
   ]
  },
  {
   "cell_type": "markdown",
   "metadata": {},
   "source": [
    " Stop and run some checking here, to make sure data rows and columns are as intended in all sets. "
   ]
  },
  {
   "cell_type": "code",
   "execution_count": 4,
   "metadata": {},
   "outputs": [
    {
     "name": "stdout",
     "output_type": "stream",
     "text": [
      "(29142, 478)\n",
      "(3643, 478)\n",
      "(3643, 478)\n",
      "0.04629057717383844\n",
      "0.049135328026351906\n",
      "0.04474334339829811\n"
     ]
    }
   ],
   "source": [
    "# check data (rows, columns)\n",
    "print(df_train_all.shape)\n",
    "print(df_valid.shape)  \n",
    "print(df_test.shape)\n",
    "\n",
    "# check the average readmission rate in all sets\n",
    "print(df_train_all.Readmit30D.mean())   \n",
    "print(df_valid.Readmit30D.mean())   \n",
    "print(df_test.Readmit30D.mean())"
   ]
  },
  {
   "cell_type": "markdown",
   "metadata": {},
   "source": [
    "We do not expect the overall readmission rate to be very high. And that is proved by the return values of Readmit30D.mean(), under 5%. Here the positive:negative ratios are about 1:20. Such an extremely unbalanced data set is not ideal for training, since the model can just assign a negative outcome to every case, and it would be correct 95% of times. To solve this problem, the training data set need to adjusted to be more balanced. The approach taken here is to under sample the negative cases, so as to raise the positive:negative ratio to 1:3. "
   ]
  },
  {
   "cell_type": "code",
   "execution_count": 5,
   "metadata": {},
   "outputs": [],
   "source": [
    "# balance the training data\n",
    "# first split train data into positive/negative \n",
    "rows_pos = df_train_all.Readmit30D == 1\n",
    "df_train_pos = df_train_all.loc[rows_pos]\n",
    "df_train_neg = df_train_all.loc[~rows_pos]\n",
    "# merge the balanced data, with positive:negative ratio = 1:3\n",
    "df_train = pd.concat([df_train_pos, df_train_neg.sample(n = 3 * len(df_train_pos), random_state = 42)],axis = 0)\n",
    "# shuffle the order of train data \n",
    "df_train = df_train.sample(n = len(df_train), random_state = 42).reset_index(drop = True)"
   ]
  },
  {
   "cell_type": "markdown",
   "metadata": {},
   "source": [
    "The data is now ready for the models. The outcome variables and predicting feature data sets are defined."
   ]
  },
  {
   "cell_type": "code",
   "execution_count": 6,
   "metadata": {},
   "outputs": [],
   "source": [
    "# the outcome variables\n",
    "y_train = df_train.Readmit30D\n",
    "y_valid = df_valid.Readmit30D\n",
    "y_test = df_test.Readmit30D\n",
    "\n",
    "# turns df to numy arry\n",
    "x_train = df_train.to_numpy()\n",
    "x_valid = df_valid.to_numpy()\n",
    "\n",
    "# skip 2 columns( HADM_ID, readmit30D)\n",
    "x_train_tf = x_train[:,2:]\n",
    "x_valid_tf = x_valid[:,2:]\n",
    "\n",
    "# Create a random forest Classifier. By convention, clf means 'Classifier'\n",
    "clf = RandomForestClassifier(bootstrap=False, n_jobs=2, \n",
    "                             min_samples_leaf=5, min_samples_split=10 , \n",
    "                             random_state=20, max_features= 80, \n",
    "                             n_estimators=50)\n",
    "\n",
    "# Train the Classifier to take the training features and learn how they relate\n",
    "# to the training y (the species)\n",
    "clf.fit(x_train_tf, y_train)\n",
    "\n",
    "# calculate probability of readmission for each sample with the model\n",
    "# Using [:,1] here gives the probabilities of getting output as 1. \n",
    "model = clf \n",
    "y_train_preds = model.predict_proba(x_train_tf)[:,1] \n",
    "y_valid_preds = model.predict_proba(x_valid_tf)[:,1]"
   ]
  },
  {
   "cell_type": "markdown",
   "metadata": {},
   "source": [
    "The random Forest Classifier model is configured, and we supply the training data so the model can learn about the relationship between the features and the outcome, and come up with the best fit model for prediction. When the learning is not, we feed the output to the model to check how the model predict in all cases. Each case will get a probability between 0 and 1. With these probability values, we will check how accurate the model predicts."
   ]
  },
  {
   "cell_type": "code",
   "execution_count": 7,
   "metadata": {},
   "outputs": [],
   "source": [
    "from sklearn.metrics import roc_curve\n",
    "from sklearn.metrics import roc_auc_score\n",
    "\n",
    "fpr_train, tpr_train, thresholds_train = roc_curve(y_train, y_train_preds)\n",
    "fpr_valid, tpr_valid, thresholds_valid = roc_curve(y_valid, y_valid_preds)\n",
    "\n",
    "auc_train = roc_auc_score(y_train, y_train_preds)\n",
    "auc_valid = roc_auc_score(y_valid, y_valid_preds)"
   ]
  },
  {
   "cell_type": "markdown",
   "metadata": {},
   "source": [
    "Prediction of a dichotomy outcome always involves tradeoffs. Simply put, if the most stringent crteria is applied, it will call out more accurate cases (true positive), but it will also call out more false postive cases and lose specificity. Here is a plot of ROC (receiver operating characteristic) curves to illustrate the relationship between these two types of prediction results."
   ]
  },
  {
   "cell_type": "code",
   "execution_count": 8,
   "metadata": {},
   "outputs": [
    {
     "data": {
      "image/png": "[encoded data removed]",
      "text/plain": [
       "<Figure size 432x288 with 1 Axes>"
      ]
     },
     "metadata": {
      "needs_background": "light"
     },
     "output_type": "display_data"
    }
   ],
   "source": [
    "# plot ROC curves\n",
    "plt.plot(fpr_train, tpr_train,'r-', label = 'Train AUC: %.2f'%auc_train)\n",
    "plt.plot(fpr_valid, tpr_valid,'b-',label = 'Valid AUC: %.2f'%auc_valid)\n",
    "plt.plot([0,1],[0,1],'-k')\n",
    "plt.xlabel('False Positive Rate')\n",
    "plt.ylabel('True Positive Rate')\n",
    "plt.legend()\n",
    "plt.show()"
   ]
  },
  {
   "cell_type": "markdown",
   "metadata": {},
   "source": [
    "To evaluate the overall quality of the prediction, i.e. how well the model performs, we need to define a matrix or index. Here, I've decided to use the computed area under ROC Curve (AUC), and the AUC value for the validation set is 0.71. That may not seem to be very impressive prediction power, yet it's very close to other published results using the same data set. So I am going to leave the model as is for now, and apply the model to the Test data set. The AUC for the Test set turns out to be 0.748, slightly better than the validation set. "
   ]
  },
  {
   "cell_type": "code",
   "execution_count": 9,
   "metadata": {},
   "outputs": [
    {
     "name": "stdout",
     "output_type": "stream",
     "text": [
      "Test AUC:0.748\n"
     ]
    }
   ],
   "source": [
    "x_test = df_test.to_numpy()\n",
    "x_test_tf = x_test[:,2:]\n",
    "\n",
    "y_test_preds = model.predict_proba(x_test_tf)[:,1]\n",
    "\n",
    "fpr_test, tpr_test, thresholds_test = roc_curve(y_test, y_test_preds)\n",
    "auc_test = roc_auc_score(y_test, y_test_preds)\n",
    "\n",
    "print('Test AUC:%.3f'%auc_test) "
   ]
  },
  {
   "cell_type": "markdown",
   "metadata": {},
   "source": [
    "\n",
    "## Logistic Regression Model\n",
    "judging from the AUC values, apparently there is still room for improvement in the modeling. So I am curious to see how a diffeent model will perform using the exact same feature sets. I will now feed the same data to a Logistic Regression classifier model for training, and compare that result to the Random Forest Classifier model."
   ]
  },
  {
   "cell_type": "code",
   "execution_count": 10,
   "metadata": {
    "scrolled": true
   },
   "outputs": [
    {
     "data": {
      "image/png": "[encoded data removed]",
      "text/plain": [
       "<Figure size 432x288 with 1 Axes>"
      ]
     },
     "metadata": {
      "needs_background": "light"
     },
     "output_type": "display_data"
    }
   ],
   "source": [
    "### build a model with logistic regression \n",
    "from sklearn.linear_model import LogisticRegression\n",
    "\n",
    "# apply logistic Regression \n",
    "# to build a model to predict Y from x, outcome from train data matrix\n",
    "clf = LogisticRegression(C = 0.5, penalty = 'l2', random_state = 42, max_iter = 1200, solver = 'lbfgs') \n",
    "\n",
    "# Train the LR Classifier model\n",
    "clf.fit(x_train_tf, y_train)\n",
    "\n",
    "# calculate probability of readmission for each sample with the model\n",
    "# Using [:,1] here gives the probabilities of getting output as 1. \n",
    "model = clf \n",
    "y_train_preds = model.predict_proba(x_train_tf)[:,1] \n",
    "y_valid_preds = model.predict_proba(x_valid_tf)[:,1]\n",
    "\n",
    "fpr_train, tpr_train, thresholds_train = roc_curve(y_train, y_train_preds)\n",
    "fpr_valid, tpr_valid, thresholds_valid = roc_curve(y_valid, y_valid_preds)\n",
    "\n",
    "auc_train = roc_auc_score(y_train, y_train_preds)\n",
    "auc_valid = roc_auc_score(y_valid, y_valid_preds)\n",
    "\n",
    "# plot ROC curves\n",
    "plt.plot(fpr_train, tpr_train,'r-', label = 'Train AUC: %.2f'%auc_train)\n",
    "plt.plot(fpr_valid, tpr_valid,'b-',label = 'Valid AUC: %.2f'%auc_valid)\n",
    "plt.plot([0,1],[0,1],'-k')\n",
    "plt.xlabel('False Positive Rate')\n",
    "plt.ylabel('True Positive Rate')\n",
    "plt.legend()\n",
    "plt.show()"
   ]
  },
  {
   "cell_type": "code",
   "execution_count": 11,
   "metadata": {},
   "outputs": [
    {
     "name": "stdout",
     "output_type": "stream",
     "text": [
      "Test AUC:0.726\n"
     ]
    }
   ],
   "source": [
    "y_test_preds = model.predict_proba(x_test_tf)[:,1]\n",
    "\n",
    "fpr_test, tpr_test, thresholds_test = roc_curve(y_test, y_test_preds)\n",
    "auc_test = roc_auc_score(y_test, y_test_preds)\n",
    "print('Test AUC:%.3f'%auc_test) "
   ]
  },
  {
   "cell_type": "markdown",
   "metadata": {},
   "source": [
    "Interestingly, with Logistic Regression, the AUC value for the validation set turns out to be exactly the same as derived from the Random Forest Classifier model (0.71). However the final models from both algorithms are not the same becasue the ROC curves for the validation set are not identical in these two models. The AUC value for the test data set is 0.726, slightly lower than the Random Forest Classifier model.\n",
    "\n",
    "## Conclusions\n",
    "Random Forest Classifier is a decision-tree based machine learning model, and I have expected it to be a very good model in predicting a dichotomy outcome with a set of discrete value features. The results of this analysis does suggest that it performs slightly better than the Logistic Regression Model. The AUC value for the training set in the Random Forest model is a perfect 1.0, which indicates overfitting. Therefore, if I am to continue with this project, I will first try to corret for the overfitting in the Random Forest model, and see if that improves the prediction in the validation set. I will also examine the features to see which are more important in this prediction model. That may provide some insights as to whether I should add certain other features to the model."
   ]
  }
 ],
 "metadata": {
  "kernelspec": {
   "display_name": "Python 3",
   "language": "python",
   "name": "python3"
  },
  "language_info": {
   "codemirror_mode": {
    "name": "ipython",
    "version": 3
   },
   "file_extension": ".py",
   "mimetype": "text/x-python",
   "name": "python",
   "nbconvert_exporter": "python",
   "pygments_lexer": "ipython3",
   "version": "3.7.3"
  }
 },
 "nbformat": 4,
 "nbformat_minor": 2
}
